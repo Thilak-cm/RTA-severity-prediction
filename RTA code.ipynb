{
 "cells": [
  {
   "cell_type": "code",
   "execution_count": 3,
   "id": "e8a98cbb",
   "metadata": {},
   "outputs": [],
   "source": [
    "import seaborn as sns\n",
    "import numpy as np\n",
    "import pandas as pd\n",
    "import matplotlib.pyplot as plt\n",
    "sns.set_style('darkgrid')"
   ]
  },
  {
   "cell_type": "code",
   "execution_count": 2,
   "id": "0eb7064e",
   "metadata": {},
   "outputs": [
    {
     "ename": "NameError",
     "evalue": "name 'pd' is not defined",
     "output_type": "error",
     "traceback": [
      "\u001b[0;31m---------------------------------------------------------------------------\u001b[0m",
      "\u001b[0;31mNameError\u001b[0m                                 Traceback (most recent call last)",
      "\u001b[0;32m<ipython-input-2-05f0d7ae403b>\u001b[0m in \u001b[0;36m<module>\u001b[0;34m\u001b[0m\n\u001b[0;32m----> 1\u001b[0;31m \u001b[0mdf\u001b[0m \u001b[0;34m=\u001b[0m \u001b[0mpd\u001b[0m\u001b[0;34m.\u001b[0m\u001b[0mread_csv\u001b[0m\u001b[0;34m(\u001b[0m\u001b[0;34m\"/kaggle/input/road-traffic-accidents/RTA Dataset.csv\"\u001b[0m\u001b[0;34m)\u001b[0m\u001b[0;34m\u001b[0m\u001b[0;34m\u001b[0m\u001b[0m\n\u001b[0m\u001b[1;32m      2\u001b[0m \u001b[0mdf\u001b[0m\u001b[0;34m.\u001b[0m\u001b[0mshape\u001b[0m\u001b[0;34m\u001b[0m\u001b[0;34m\u001b[0m\u001b[0m\n",
      "\u001b[0;31mNameError\u001b[0m: name 'pd' is not defined"
     ]
    }
   ],
   "source": [
    "df = pd.read_csv(\"\")\n",
    "df.shape"
   ]
  },
  {
   "cell_type": "code",
   "execution_count": null,
   "id": "e689ded9",
   "metadata": {},
   "outputs": [],
   "source": [
    "df.head()"
   ]
  },
  {
   "cell_type": "code",
   "execution_count": null,
   "id": "1effc0db",
   "metadata": {},
   "outputs": [],
   "source": [
    "df['Vehicle_driver_relation'].value_counts()"
   ]
  },
  {
   "cell_type": "code",
   "execution_count": null,
   "id": "40b27897",
   "metadata": {},
   "outputs": [],
   "source": [
    "df.dtypes"
   ]
  },
  {
   "cell_type": "code",
   "execution_count": null,
   "id": "7b8b3881",
   "metadata": {},
   "outputs": [],
   "source": [
    "df.dtypes.value_counts()"
   ]
  },
  {
   "cell_type": "code",
   "execution_count": null,
   "id": "6678ad8a",
   "metadata": {},
   "outputs": [],
   "source": [
    "i = df[(df['Vehicle_driver_relation'] == 'Unknown')].index"
   ]
  },
  {
   "cell_type": "code",
   "execution_count": null,
   "id": "69c80a75",
   "metadata": {},
   "outputs": [],
   "source": [
    "i = df[(df['Vehicle_driver_relation'] == 'Unknown')].index\n",
    "df = df.drop(i)"
   ]
  },
  {
   "cell_type": "code",
   "execution_count": null,
   "id": "413e03b2",
   "metadata": {},
   "outputs": [],
   "source": [
    "df.drop(['Sex_of_casualty'], inplace=True, axis=1)"
   ]
  },
  {
   "cell_type": "code",
   "execution_count": null,
   "id": "1bb27df2",
   "metadata": {},
   "outputs": [],
   "source": [
    "df.info()"
   ]
  },
  {
   "cell_type": "code",
   "execution_count": null,
   "id": "0d2dd107",
   "metadata": {},
   "outputs": [],
   "source": [
    "sns.countplot(data= df, x='Accident_severity')"
   ]
  },
  {
   "cell_type": "code",
   "execution_count": null,
   "id": "3ec0960b",
   "metadata": {},
   "outputs": [],
   "source": [
    "df.corr()"
   ]
  },
  {
   "cell_type": "code",
   "execution_count": null,
   "id": "ce379d0e",
   "metadata": {},
   "outputs": [],
   "source": [
    "df = df.fillna(method='ffill')\n",
    "df = df.fillna(method='bfill')"
   ]
  },
  {
   "cell_type": "code",
   "execution_count": null,
   "id": "ddb8ea7e",
   "metadata": {},
   "outputs": [],
   "source": [
    "df.isnull().sum()"
   ]
  },
  {
   "cell_type": "code",
   "execution_count": null,
   "id": "607e621b",
   "metadata": {},
   "outputs": [],
   "source": [
    "df.info()"
   ]
  },
  {
   "cell_type": "code",
   "execution_count": null,
   "id": "d6ec7684",
   "metadata": {},
   "outputs": [],
   "source": [
    "t = '17:02:00'\n",
    "t[:2]"
   ]
  },
  {
   "cell_type": "code",
   "execution_count": null,
   "id": "f6713896",
   "metadata": {},
   "outputs": [],
   "source": [
    "df['Day_of_week'].value_counts()"
   ]
  },
  {
   "cell_type": "code",
   "execution_count": null,
   "id": "6522b819",
   "metadata": {},
   "outputs": [],
   "source": [
    "def weekday_or_weekend(x):\n",
    "    if x in ['Monday', 'Tuesday', 'Wednesday', 'Thursday', 'Friday']:\n",
    "        x = 'Weekday'\n",
    "    else:\n",
    "        x = 'Weekend'\n",
    "    \n",
    "    return x"
   ]
  },
  {
   "cell_type": "code",
   "execution_count": null,
   "id": "0da77790",
   "metadata": {},
   "outputs": [],
   "source": [
    "df['Day_type'] = df['Day_of_week'].apply(lambda x: weekday_or_weekend(x))\n",
    "sns.countplot(data=df, x='Day_type')"
   ]
  },
  {
   "cell_type": "code",
   "execution_count": null,
   "id": "e1daffc3",
   "metadata": {},
   "outputs": [],
   "source": [
    "df.drop(['Day_of_week'], inplace=True, axis=1)"
   ]
  },
  {
   "cell_type": "code",
   "execution_count": null,
   "id": "99d74661",
   "metadata": {},
   "outputs": [],
   "source": [
    "df.head()"
   ]
  },
  {
   "cell_type": "code",
   "execution_count": null,
   "id": "4e9622b4",
   "metadata": {},
   "outputs": [],
   "source": [
    "def day_or_night(x):\n",
    "    x = x[:2]\n",
    "    if \":\" in x:\n",
    "        x = x[:1]\n",
    "    \n",
    "    x = int(x)\n",
    "    \n",
    "    if x >= 6 and x < 18:\n",
    "        x = \"Day\"\n",
    "    else:\n",
    "        x = \"Night\"\n",
    "    \n",
    "    return x\n",
    "    "
   ]
  },
  {
   "cell_type": "code",
   "execution_count": null,
   "id": "e881de32",
   "metadata": {},
   "outputs": [],
   "source": [
    "df['Time_of_day'] = df['Time'].apply(lambda x: day_or_night(x))"
   ]
  },
  {
   "cell_type": "code",
   "execution_count": null,
   "id": "f55fcc38",
   "metadata": {},
   "outputs": [],
   "source": [
    "sns.countplot(data=df,x='Time_of_day')"
   ]
  },
  {
   "cell_type": "code",
   "execution_count": null,
   "id": "b50b58d4",
   "metadata": {},
   "outputs": [],
   "source": [
    "df.drop(['Time'], inplace=True, axis=1)"
   ]
  },
  {
   "cell_type": "code",
   "execution_count": null,
   "id": "7e71e86e",
   "metadata": {},
   "outputs": [],
   "source": [
    "df.head()"
   ]
  },
  {
   "cell_type": "code",
   "execution_count": null,
   "id": "16ee2ab5",
   "metadata": {},
   "outputs": [],
   "source": [
    "df = pd.concat([df.drop('Accident_severity', axis=1), pd.get_dummies(df['Accident_severity'], drop_first=True)], axis=1)\n",
    "df.head()"
   ]
  },
  {
   "cell_type": "code",
   "execution_count": null,
   "id": "9733838b",
   "metadata": {},
   "outputs": [],
   "source": [
    "sns.histplot(data=df, x='Number_of_vehicles_involved')"
   ]
  },
  {
   "cell_type": "code",
   "execution_count": null,
   "id": "d408f97a",
   "metadata": {},
   "outputs": [],
   "source": [
    "sns.histplot(data=df, x='Number_of_casualties')"
   ]
  },
  {
   "cell_type": "code",
   "execution_count": null,
   "id": "1a830844",
   "metadata": {},
   "outputs": [],
   "source": [
    "df.describe().transpose()"
   ]
  },
  {
   "cell_type": "code",
   "execution_count": null,
   "id": "85f57990",
   "metadata": {},
   "outputs": [],
   "source": [
    "df.describe(include='object').transpose()"
   ]
  },
  {
   "cell_type": "code",
   "execution_count": null,
   "id": "43834d2a",
   "metadata": {},
   "outputs": [],
   "source": [
    "for col in df.select_dtypes(include='object'):\n",
    "    if df[col].nunique() <= 30:\n",
    "        sns.countplot(data=df, y=col)\n",
    "        plt.show()"
   ]
  },
  {
   "cell_type": "code",
   "execution_count": null,
   "id": "962ebab3",
   "metadata": {},
   "outputs": [],
   "source": [
    "df.nunique()"
   ]
  },
  {
   "cell_type": "code",
   "execution_count": null,
   "id": "55ed9e45",
   "metadata": {},
   "outputs": [],
   "source": []
  },
  {
   "cell_type": "code",
   "execution_count": null,
   "id": "1651ce58",
   "metadata": {},
   "outputs": [],
   "source": []
  },
  {
   "cell_type": "code",
   "execution_count": null,
   "id": "bfdc3f6e",
   "metadata": {},
   "outputs": [],
   "source": []
  },
  {
   "cell_type": "code",
   "execution_count": null,
   "id": "3735e6d9",
   "metadata": {},
   "outputs": [],
   "source": []
  }
 ],
 "metadata": {
  "kernelspec": {
   "display_name": "Python 3",
   "language": "python",
   "name": "python3"
  },
  "language_info": {
   "codemirror_mode": {
    "name": "ipython",
    "version": 3
   },
   "file_extension": ".py",
   "mimetype": "text/x-python",
   "name": "python",
   "nbconvert_exporter": "python",
   "pygments_lexer": "ipython3",
   "version": "3.8.8"
  }
 },
 "nbformat": 4,
 "nbformat_minor": 5
}
